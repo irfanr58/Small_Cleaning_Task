{
 "cells": [
  {
   "cell_type": "code",
   "execution_count": 3,
   "id": "a0bc122d",
   "metadata": {},
   "outputs": [],
   "source": [
    "import pandas as pd\n",
    "from openpyxl import load_workbook\n",
    "from openpyxl.chart import BarChart, Reference\n",
    "import os\n",
    "from typing import cast\n",
    "import xlsxwriter as pw\n",
    "from xlsxwriter.chart import Chart      # ← add this\n",
    "import polars as pl\n",
    "import re"
   ]
  },
  {
   "cell_type": "code",
   "execution_count": 4,
   "id": "867ac498",
   "metadata": {},
   "outputs": [],
   "source": [
    "path = r\"C:\\Users\\irfan\\OneDrive\\Desktop\\Python Projects\\Small_Cleaning_Task\\Dirty_csv_Dataset.csv\"\n",
    "\n",
    "# Load the CSV directly into a DataFrame\n",
    "df = pd.read_csv(path)\n"
   ]
  },
  {
   "cell_type": "code",
   "execution_count": 5,
   "id": "a4ef6c6b",
   "metadata": {},
   "outputs": [],
   "source": [
    "# convert pandas df to polars, clean, then convert back\n",
    "pl_df = pl.from_pandas(df)"
   ]
  },
  {
   "cell_type": "code",
   "execution_count": 6,
   "id": "a0c55b37",
   "metadata": {},
   "outputs": [],
   "source": [
    "cleaned = (\n",
    "    pl_df\n",
    "    .rename(\n",
    "        {\n",
    "            col: re.sub(r'\\s+', '_', col.strip().replace('-', '').lower())\n",
    "            for col in pl_df.columns\n",
    "        }\n",
    "    )  # rename columns: strip whitespace, remove hyphens, lowercase and convert spaces to underscores\n",
    "    .with_columns([\n",
    "        pl.col(\"first_name\")\n",
    "          .str.to_lowercase()\n",
    "          .str.to_titlecase()\n",
    "          .alias(\"first_name\"),\n",
    "        pl.col(\"last_name\")\n",
    "          .str.to_lowercase()\n",
    "          .str.to_titlecase()\n",
    "          .alias(\"last_name\")\n",
    "    ])  # normalize first and last names to Title Case\n",
    "    .filter(\n",
    "        (pl.col(\"first_name\") != \"\") &\n",
    "        (pl.col(\"last_name\")  != \"\")\n",
    "    )  # drop rows with empty first or last name\n",
    "    .with_columns(\n",
    "        pl.col(\"email\")\n",
    "          .str.split(r\";\")\n",
    "          .alias(\"email\")\n",
    "    )  # split multiple emails into a list\n",
    "    .explode(\"email\")  # expand each email entry into its own row\n",
    "    .filter(\n",
    "        pl.col(\"email\")\n",
    "          .str.contains(r\"\\.com\")\n",
    "    )  # keep only email addresses ending with .com\n",
    "\n",
    ")"
   ]
  },
  {
   "cell_type": "code",
   "execution_count": 7,
   "id": "78254de0",
   "metadata": {},
   "outputs": [],
   "source": [
    "df = cleaned.to_pandas()"
   ]
  },
  {
   "cell_type": "code",
   "execution_count": 8,
   "id": "c4417c48",
   "metadata": {},
   "outputs": [
    {
     "name": "stdout",
     "output_type": "stream",
     "text": [
      "  first_name last_name                      email    signup_date amount_paid  \\\n",
      "0      Alice     Smith    alice.smith@example.com     2025/01/15   $1,200.00   \n",
      "1      Alice     Smith           asmith@gmail.com     2025/01/15   $1,200.00   \n",
      "2    Charlie    O'Neil  charlie.oneil@example.com     2025.03.01       950.5   \n",
      "3      David     Brown    david.brown@example.com  April 5, 2025    1,100.00   \n",
      "4      David     Brown          d.brown@yahoo.com  April 5, 2025    1,100.00   \n",
      "\n",
      "     status  \n",
      "0    Active  \n",
      "1    Active  \n",
      "2  Inactive  \n",
      "3    ACTIVE  \n",
      "4    ACTIVE  \n"
     ]
    }
   ],
   "source": [
    "print(df)"
   ]
  },
  {
   "cell_type": "code",
   "execution_count": 9,
   "id": "f020e771",
   "metadata": {},
   "outputs": [],
   "source": [
    "from datetime import datetime\n",
    "\n",
    "def parse_signup_date(x):\n",
    "    for fmt in (\"%Y-%m-%d\", \"%Y.%m.%d\", \"%B %d, %Y\"):\n",
    "        try:\n",
    "            return datetime.strptime(x, fmt)\n",
    "        except (ValueError, TypeError):\n",
    "            continue\n",
    "    # fallback to pandas/dateutil for anything else\n",
    "    return pd.to_datetime(x, errors=\"coerce\")\n",
    "\n",
    "# ...existing code...\n",
    "df[\"signup_date\"] = df[\"signup_date\"].apply(parse_signup_date)\n",
    "# # drop any that still failed to parse\n",
    "# df = df[df[\"signup_date\"].notna()]\n",
    "# finally format uniformly\n",
    "df[\"signup_date\"] = df[\"signup_date\"].dt.strftime(\"%Y-%m-%d\")\n",
    "# ...existing code..."
   ]
  },
  {
   "cell_type": "code",
   "execution_count": 10,
   "id": "029f9465",
   "metadata": {},
   "outputs": [
    {
     "data": {
      "application/vnd.microsoft.datawrangler.viewer.v0+json": {
       "columns": [
        {
         "name": "index",
         "rawType": "int64",
         "type": "integer"
        },
        {
         "name": "first_name",
         "rawType": "object",
         "type": "string"
        },
        {
         "name": "last_name",
         "rawType": "object",
         "type": "string"
        },
        {
         "name": "email",
         "rawType": "object",
         "type": "string"
        },
        {
         "name": "signup_date",
         "rawType": "object",
         "type": "string"
        },
        {
         "name": "amount_paid",
         "rawType": "object",
         "type": "string"
        },
        {
         "name": "status",
         "rawType": "object",
         "type": "string"
        }
       ],
       "ref": "d725d2b3-04ce-414a-82ed-11b006c49356",
       "rows": [
        [
         "0",
         "Alice",
         "Smith",
         "alice.smith@example.com",
         "2025-01-15",
         "$1,200.00",
         "Active"
        ],
        [
         "1",
         "Alice",
         "Smith",
         "asmith@gmail.com",
         "2025-01-15",
         "$1,200.00",
         "Active"
        ],
        [
         "2",
         "Charlie",
         "O'Neil",
         "charlie.oneil@example.com",
         "2025-03-01",
         "950.5",
         "Inactive"
        ],
        [
         "3",
         "David",
         "Brown",
         "david.brown@example.com",
         "2025-04-05",
         "1,100.00",
         "ACTIVE"
        ],
        [
         "4",
         "David",
         "Brown",
         " d.brown@yahoo.com",
         "2025-04-05",
         "1,100.00",
         "ACTIVE"
        ]
       ],
       "shape": {
        "columns": 6,
        "rows": 5
       }
      },
      "text/html": [
       "<div>\n",
       "<style scoped>\n",
       "    .dataframe tbody tr th:only-of-type {\n",
       "        vertical-align: middle;\n",
       "    }\n",
       "\n",
       "    .dataframe tbody tr th {\n",
       "        vertical-align: top;\n",
       "    }\n",
       "\n",
       "    .dataframe thead th {\n",
       "        text-align: right;\n",
       "    }\n",
       "</style>\n",
       "<table border=\"1\" class=\"dataframe\">\n",
       "  <thead>\n",
       "    <tr style=\"text-align: right;\">\n",
       "      <th></th>\n",
       "      <th>first_name</th>\n",
       "      <th>last_name</th>\n",
       "      <th>email</th>\n",
       "      <th>signup_date</th>\n",
       "      <th>amount_paid</th>\n",
       "      <th>status</th>\n",
       "    </tr>\n",
       "  </thead>\n",
       "  <tbody>\n",
       "    <tr>\n",
       "      <th>0</th>\n",
       "      <td>Alice</td>\n",
       "      <td>Smith</td>\n",
       "      <td>alice.smith@example.com</td>\n",
       "      <td>2025-01-15</td>\n",
       "      <td>$1,200.00</td>\n",
       "      <td>Active</td>\n",
       "    </tr>\n",
       "    <tr>\n",
       "      <th>1</th>\n",
       "      <td>Alice</td>\n",
       "      <td>Smith</td>\n",
       "      <td>asmith@gmail.com</td>\n",
       "      <td>2025-01-15</td>\n",
       "      <td>$1,200.00</td>\n",
       "      <td>Active</td>\n",
       "    </tr>\n",
       "    <tr>\n",
       "      <th>2</th>\n",
       "      <td>Charlie</td>\n",
       "      <td>O'Neil</td>\n",
       "      <td>charlie.oneil@example.com</td>\n",
       "      <td>2025-03-01</td>\n",
       "      <td>950.5</td>\n",
       "      <td>Inactive</td>\n",
       "    </tr>\n",
       "    <tr>\n",
       "      <th>3</th>\n",
       "      <td>David</td>\n",
       "      <td>Brown</td>\n",
       "      <td>david.brown@example.com</td>\n",
       "      <td>2025-04-05</td>\n",
       "      <td>1,100.00</td>\n",
       "      <td>ACTIVE</td>\n",
       "    </tr>\n",
       "    <tr>\n",
       "      <th>4</th>\n",
       "      <td>David</td>\n",
       "      <td>Brown</td>\n",
       "      <td>d.brown@yahoo.com</td>\n",
       "      <td>2025-04-05</td>\n",
       "      <td>1,100.00</td>\n",
       "      <td>ACTIVE</td>\n",
       "    </tr>\n",
       "  </tbody>\n",
       "</table>\n",
       "</div>"
      ],
      "text/plain": [
       "  first_name last_name                      email signup_date amount_paid  \\\n",
       "0      Alice     Smith    alice.smith@example.com  2025-01-15   $1,200.00   \n",
       "1      Alice     Smith           asmith@gmail.com  2025-01-15   $1,200.00   \n",
       "2    Charlie    O'Neil  charlie.oneil@example.com  2025-03-01       950.5   \n",
       "3      David     Brown    david.brown@example.com  2025-04-05    1,100.00   \n",
       "4      David     Brown          d.brown@yahoo.com  2025-04-05    1,100.00   \n",
       "\n",
       "     status  \n",
       "0    Active  \n",
       "1    Active  \n",
       "2  Inactive  \n",
       "3    ACTIVE  \n",
       "4    ACTIVE  "
      ]
     },
     "metadata": {},
     "output_type": "display_data"
    }
   ],
   "source": [
    "display(df)"
   ]
  },
  {
   "cell_type": "code",
   "execution_count": 11,
   "id": "2a7c9a95",
   "metadata": {},
   "outputs": [
    {
     "data": {
      "application/vnd.microsoft.datawrangler.viewer.v0+json": {
       "columns": [
        {
         "name": "index",
         "rawType": "int64",
         "type": "integer"
        },
        {
         "name": "first_name",
         "rawType": "object",
         "type": "string"
        },
        {
         "name": "last_name",
         "rawType": "object",
         "type": "string"
        },
        {
         "name": "email",
         "rawType": "object",
         "type": "string"
        },
        {
         "name": "signup_date",
         "rawType": "object",
         "type": "string"
        },
        {
         "name": "amount_paid",
         "rawType": "float64",
         "type": "float"
        },
        {
         "name": "status",
         "rawType": "object",
         "type": "string"
        }
       ],
       "ref": "a1e9d58d-0541-40b3-a3a0-b99b831e0b6f",
       "rows": [
        [
         "0",
         "Alice",
         "Smith",
         "alice.smith@example.com",
         "2025-01-15",
         "1200.0",
         "Active"
        ],
        [
         "1",
         "Alice",
         "Smith",
         "asmith@gmail.com",
         "2025-01-15",
         "1200.0",
         "Active"
        ],
        [
         "2",
         "Charlie",
         "O'Neil",
         "charlie.oneil@example.com",
         "2025-03-01",
         "950.5",
         "Inactive"
        ],
        [
         "3",
         "David",
         "Brown",
         "david.brown@example.com",
         "2025-04-05",
         "1100.0",
         "ACTIVE"
        ],
        [
         "4",
         "David",
         "Brown",
         " d.brown@yahoo.com",
         "2025-04-05",
         "1100.0",
         "ACTIVE"
        ]
       ],
       "shape": {
        "columns": 6,
        "rows": 5
       }
      },
      "text/html": [
       "<div>\n",
       "<style scoped>\n",
       "    .dataframe tbody tr th:only-of-type {\n",
       "        vertical-align: middle;\n",
       "    }\n",
       "\n",
       "    .dataframe tbody tr th {\n",
       "        vertical-align: top;\n",
       "    }\n",
       "\n",
       "    .dataframe thead th {\n",
       "        text-align: right;\n",
       "    }\n",
       "</style>\n",
       "<table border=\"1\" class=\"dataframe\">\n",
       "  <thead>\n",
       "    <tr style=\"text-align: right;\">\n",
       "      <th></th>\n",
       "      <th>first_name</th>\n",
       "      <th>last_name</th>\n",
       "      <th>email</th>\n",
       "      <th>signup_date</th>\n",
       "      <th>amount_paid</th>\n",
       "      <th>status</th>\n",
       "    </tr>\n",
       "  </thead>\n",
       "  <tbody>\n",
       "    <tr>\n",
       "      <th>0</th>\n",
       "      <td>Alice</td>\n",
       "      <td>Smith</td>\n",
       "      <td>alice.smith@example.com</td>\n",
       "      <td>2025-01-15</td>\n",
       "      <td>1200.0</td>\n",
       "      <td>Active</td>\n",
       "    </tr>\n",
       "    <tr>\n",
       "      <th>1</th>\n",
       "      <td>Alice</td>\n",
       "      <td>Smith</td>\n",
       "      <td>asmith@gmail.com</td>\n",
       "      <td>2025-01-15</td>\n",
       "      <td>1200.0</td>\n",
       "      <td>Active</td>\n",
       "    </tr>\n",
       "    <tr>\n",
       "      <th>2</th>\n",
       "      <td>Charlie</td>\n",
       "      <td>O'Neil</td>\n",
       "      <td>charlie.oneil@example.com</td>\n",
       "      <td>2025-03-01</td>\n",
       "      <td>950.5</td>\n",
       "      <td>Inactive</td>\n",
       "    </tr>\n",
       "    <tr>\n",
       "      <th>3</th>\n",
       "      <td>David</td>\n",
       "      <td>Brown</td>\n",
       "      <td>david.brown@example.com</td>\n",
       "      <td>2025-04-05</td>\n",
       "      <td>1100.0</td>\n",
       "      <td>ACTIVE</td>\n",
       "    </tr>\n",
       "    <tr>\n",
       "      <th>4</th>\n",
       "      <td>David</td>\n",
       "      <td>Brown</td>\n",
       "      <td>d.brown@yahoo.com</td>\n",
       "      <td>2025-04-05</td>\n",
       "      <td>1100.0</td>\n",
       "      <td>ACTIVE</td>\n",
       "    </tr>\n",
       "  </tbody>\n",
       "</table>\n",
       "</div>"
      ],
      "text/plain": [
       "  first_name last_name                      email signup_date  amount_paid  \\\n",
       "0      Alice     Smith    alice.smith@example.com  2025-01-15       1200.0   \n",
       "1      Alice     Smith           asmith@gmail.com  2025-01-15       1200.0   \n",
       "2    Charlie    O'Neil  charlie.oneil@example.com  2025-03-01        950.5   \n",
       "3      David     Brown    david.brown@example.com  2025-04-05       1100.0   \n",
       "4      David     Brown          d.brown@yahoo.com  2025-04-05       1100.0   \n",
       "\n",
       "     status  \n",
       "0    Active  \n",
       "1    Active  \n",
       "2  Inactive  \n",
       "3    ACTIVE  \n",
       "4    ACTIVE  "
      ]
     },
     "execution_count": 11,
     "metadata": {},
     "output_type": "execute_result"
    }
   ],
   "source": [
    "# remove currency symbols and thousand separators, convert to float\n",
    "df[\"amount_paid\"] = (\n",
    "    df[\"amount_paid\"]\n",
    "    .str.replace(r\"[\\$,]\", \"\", regex=True)\n",
    "    .astype(float)\n",
    ")\n",
    "df.head()"
   ]
  },
  {
   "cell_type": "code",
   "execution_count": 12,
   "id": "3c114621",
   "metadata": {},
   "outputs": [
    {
     "data": {
      "application/vnd.microsoft.datawrangler.viewer.v0+json": {
       "columns": [
        {
         "name": "index",
         "rawType": "int64",
         "type": "integer"
        },
        {
         "name": "first_name",
         "rawType": "object",
         "type": "string"
        },
        {
         "name": "last_name",
         "rawType": "object",
         "type": "string"
        },
        {
         "name": "email",
         "rawType": "object",
         "type": "string"
        },
        {
         "name": "signup_date",
         "rawType": "object",
         "type": "string"
        },
        {
         "name": "amount_paid",
         "rawType": "float64",
         "type": "float"
        },
        {
         "name": "status",
         "rawType": "object",
         "type": "string"
        }
       ],
       "ref": "92b2fb6f-cb15-4c37-8269-c728271f7aa4",
       "rows": [
        [
         "0",
         "Alice",
         "Smith",
         "alice.smith@example.com",
         "2025-01-15",
         "1200.0",
         "active"
        ],
        [
         "1",
         "Alice",
         "Smith",
         "asmith@gmail.com",
         "2025-01-15",
         "1200.0",
         "active"
        ],
        [
         "2",
         "Charlie",
         "O'Neil",
         "charlie.oneil@example.com",
         "2025-03-01",
         "950.5",
         "inactive"
        ],
        [
         "3",
         "David",
         "Brown",
         "david.brown@example.com",
         "2025-04-05",
         "1100.0",
         "active"
        ],
        [
         "4",
         "David",
         "Brown",
         " d.brown@yahoo.com",
         "2025-04-05",
         "1100.0",
         "active"
        ]
       ],
       "shape": {
        "columns": 6,
        "rows": 5
       }
      },
      "text/html": [
       "<div>\n",
       "<style scoped>\n",
       "    .dataframe tbody tr th:only-of-type {\n",
       "        vertical-align: middle;\n",
       "    }\n",
       "\n",
       "    .dataframe tbody tr th {\n",
       "        vertical-align: top;\n",
       "    }\n",
       "\n",
       "    .dataframe thead th {\n",
       "        text-align: right;\n",
       "    }\n",
       "</style>\n",
       "<table border=\"1\" class=\"dataframe\">\n",
       "  <thead>\n",
       "    <tr style=\"text-align: right;\">\n",
       "      <th></th>\n",
       "      <th>first_name</th>\n",
       "      <th>last_name</th>\n",
       "      <th>email</th>\n",
       "      <th>signup_date</th>\n",
       "      <th>amount_paid</th>\n",
       "      <th>status</th>\n",
       "    </tr>\n",
       "  </thead>\n",
       "  <tbody>\n",
       "    <tr>\n",
       "      <th>0</th>\n",
       "      <td>Alice</td>\n",
       "      <td>Smith</td>\n",
       "      <td>alice.smith@example.com</td>\n",
       "      <td>2025-01-15</td>\n",
       "      <td>1200.0</td>\n",
       "      <td>active</td>\n",
       "    </tr>\n",
       "    <tr>\n",
       "      <th>1</th>\n",
       "      <td>Alice</td>\n",
       "      <td>Smith</td>\n",
       "      <td>asmith@gmail.com</td>\n",
       "      <td>2025-01-15</td>\n",
       "      <td>1200.0</td>\n",
       "      <td>active</td>\n",
       "    </tr>\n",
       "    <tr>\n",
       "      <th>2</th>\n",
       "      <td>Charlie</td>\n",
       "      <td>O'Neil</td>\n",
       "      <td>charlie.oneil@example.com</td>\n",
       "      <td>2025-03-01</td>\n",
       "      <td>950.5</td>\n",
       "      <td>inactive</td>\n",
       "    </tr>\n",
       "    <tr>\n",
       "      <th>3</th>\n",
       "      <td>David</td>\n",
       "      <td>Brown</td>\n",
       "      <td>david.brown@example.com</td>\n",
       "      <td>2025-04-05</td>\n",
       "      <td>1100.0</td>\n",
       "      <td>active</td>\n",
       "    </tr>\n",
       "    <tr>\n",
       "      <th>4</th>\n",
       "      <td>David</td>\n",
       "      <td>Brown</td>\n",
       "      <td>d.brown@yahoo.com</td>\n",
       "      <td>2025-04-05</td>\n",
       "      <td>1100.0</td>\n",
       "      <td>active</td>\n",
       "    </tr>\n",
       "  </tbody>\n",
       "</table>\n",
       "</div>"
      ],
      "text/plain": [
       "  first_name last_name                      email signup_date  amount_paid  \\\n",
       "0      Alice     Smith    alice.smith@example.com  2025-01-15       1200.0   \n",
       "1      Alice     Smith           asmith@gmail.com  2025-01-15       1200.0   \n",
       "2    Charlie    O'Neil  charlie.oneil@example.com  2025-03-01        950.5   \n",
       "3      David     Brown    david.brown@example.com  2025-04-05       1100.0   \n",
       "4      David     Brown          d.brown@yahoo.com  2025-04-05       1100.0   \n",
       "\n",
       "     status  \n",
       "0    active  \n",
       "1    active  \n",
       "2  inactive  \n",
       "3    active  \n",
       "4    active  "
      ]
     },
     "execution_count": 12,
     "metadata": {},
     "output_type": "execute_result"
    }
   ],
   "source": [
    "# trim any leading/trailing whitespace and convert to lowercase\n",
    "df['status'] = df['status'].str.strip().str.lower()\n",
    "\n",
    "# verify the change\n",
    "df.head()"
   ]
  },
  {
   "cell_type": "code",
   "execution_count": 13,
   "id": "2d78634f",
   "metadata": {},
   "outputs": [],
   "source": [
    "import os\n",
    "\n",
    "output_path = os.path.join(os.getcwd(), \"cleaned_data.xlsx\")\n",
    "df.to_excel(output_path, index=False)\n",
    "os.startfile(output_path)"
   ]
  }
 ],
 "metadata": {
  "kernelspec": {
   "display_name": "Python 3",
   "language": "python",
   "name": "python3"
  },
  "language_info": {
   "codemirror_mode": {
    "name": "ipython",
    "version": 3
   },
   "file_extension": ".py",
   "mimetype": "text/x-python",
   "name": "python",
   "nbconvert_exporter": "python",
   "pygments_lexer": "ipython3",
   "version": "3.12.2"
  }
 },
 "nbformat": 4,
 "nbformat_minor": 5
}
